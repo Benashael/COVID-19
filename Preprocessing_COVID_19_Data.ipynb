{
  "nbformat": 4,
  "nbformat_minor": 0,
  "metadata": {
    "colab": {
      "provenance": [],
      "authorship_tag": "ABX9TyP64mRt5KwvbCqV9G6r79Ol",
      "include_colab_link": true
    },
    "kernelspec": {
      "name": "python3",
      "display_name": "Python 3"
    },
    "language_info": {
      "name": "python"
    }
  },
  "cells": [
    {
      "cell_type": "markdown",
      "metadata": {
        "id": "view-in-github",
        "colab_type": "text"
      },
      "source": [
        "<a href=\"https://colab.research.google.com/github/Benashael/COVID-19/blob/main/Preprocessing_COVID_19_Data.ipynb\" target=\"_parent\"><img src=\"https://colab.research.google.com/assets/colab-badge.svg\" alt=\"Open In Colab\"/></a>"
      ]
    },
    {
      "cell_type": "code",
      "source": [
        "from google.colab import drive\n",
        "drive.mount('/content/drive')"
      ],
      "metadata": {
        "colab": {
          "base_uri": "https://localhost:8080/"
        },
        "id": "8re3su446R8Z",
        "outputId": "7c5d7a4c-b428-45c0-d3e8-041875bd08ea"
      },
      "execution_count": 1,
      "outputs": [
        {
          "output_type": "stream",
          "name": "stdout",
          "text": [
            "Mounted at /content/drive\n"
          ]
        }
      ]
    },
    {
      "cell_type": "code",
      "source": [
        "import pandas as pd\n",
        "\n",
        "# Load your dataset (assuming it's in a CSV file)\n",
        "df = pd.read_csv('/content/drive/MyDrive/Provisional_COVID-19_Deaths_by_Sex_and_Age_20240702.csv')\n",
        "\n",
        "# Filter the dataset where the 'Group' column is 'By Month'\n",
        "filtered_df = df[df['Group'] == 'By Month']\n",
        "\n",
        "filtered_df.shape"
      ],
      "metadata": {
        "colab": {
          "base_uri": "https://localhost:8080/"
        },
        "id": "EtvSUxgw6OD-",
        "outputId": "92c19792-1f7a-4d92-f6cd-f4c6ba887405"
      },
      "execution_count": 3,
      "outputs": [
        {
          "output_type": "execute_result",
          "data": {
            "text/plain": [
              "(123930, 16)"
            ]
          },
          "metadata": {},
          "execution_count": 3
        }
      ]
    },
    {
      "cell_type": "code",
      "source": [
        "import numpy as np\n",
        "\n",
        "# If it's not in datetime format, convert it\n",
        "filtered_df['Start Date'] = pd.to_datetime(filtered_df['Start Date'])\n",
        "\n",
        "# Sort the dataset by date to maintain the time series order\n",
        "filtered_df = filtered_df.sort_values(by='Start Date')\n",
        "\n",
        "# Perform stratified sampling to reduce the dataset to 20,000 rows\n",
        "# Group by date to ensure we sample proportionally from each date\n",
        "sampled_df = filtered_df.groupby(filtered_df['Start Date'].dt.date, group_keys=False).apply(lambda x: x.sample(frac=20000/len(df), random_state=1))\n",
        "\n",
        "# Ensure the sample has exactly 20,000 rows\n",
        "if len(sampled_df) > 20000:\n",
        "    sampled_df = sampled_df.sample(n=20000, random_state=1)\n",
        "elif len(sampled_df) < 20000:\n",
        "    additional_rows = df.sample(n=20000 - len(sampled_df), random_state=1)\n",
        "    sampled_df = pd.concat([sampled_df, additional_rows])\n",
        "\n",
        "# Reset index for clean dataframe\n",
        "sampled_df = sampled_df.reset_index(drop=True)\n",
        "\n",
        "sampled_df.shape"
      ],
      "metadata": {
        "colab": {
          "base_uri": "https://localhost:8080/"
        },
        "id": "Uq4Ea4kW7C6-",
        "outputId": "1da3219a-9c2b-426f-c1e2-7e38adc6f4eb"
      },
      "execution_count": 5,
      "outputs": [
        {
          "output_type": "stream",
          "name": "stderr",
          "text": [
            "<ipython-input-5-9e72628e51fc>:4: SettingWithCopyWarning: \n",
            "A value is trying to be set on a copy of a slice from a DataFrame.\n",
            "Try using .loc[row_indexer,col_indexer] = value instead\n",
            "\n",
            "See the caveats in the documentation: https://pandas.pydata.org/pandas-docs/stable/user_guide/indexing.html#returning-a-view-versus-a-copy\n",
            "  filtered_df['Start Date'] = pd.to_datetime(filtered_df['Start Date'])\n"
          ]
        },
        {
          "output_type": "execute_result",
          "data": {
            "text/plain": [
              "(20000, 16)"
            ]
          },
          "metadata": {},
          "execution_count": 5
        }
      ]
    },
    {
      "cell_type": "code",
      "source": [
        "# Initial Feature Removal\n",
        "sampled_df = sampled_df.drop(columns=['Footnote'])"
      ],
      "metadata": {
        "id": "3CFSP8Ve9YPY"
      },
      "execution_count": 10,
      "outputs": []
    },
    {
      "cell_type": "code",
      "source": [
        "sampled_df.isna().sum()"
      ],
      "metadata": {
        "colab": {
          "base_uri": "https://localhost:8080/"
        },
        "id": "ew7rTggj_Apa",
        "outputId": "ad66eb32-9a8b-46b7-f8eb-d8a577b16e0c"
      },
      "execution_count": 11,
      "outputs": [
        {
          "output_type": "execute_result",
          "data": {
            "text/plain": [
              "Data As Of                                     0\n",
              "Start Date                                     0\n",
              "End Date                                       0\n",
              "Group                                          0\n",
              "Year                                          46\n",
              "Month                                        213\n",
              "State                                          0\n",
              "Sex                                            0\n",
              "Age Group                                      0\n",
              "COVID-19 Deaths                             5798\n",
              "Total Deaths                                3083\n",
              "Pneumonia Deaths                            6736\n",
              "Pneumonia and COVID-19 Deaths               5377\n",
              "Influenza Deaths                            3427\n",
              "Pneumonia, Influenza, or COVID-19 Deaths    6679\n",
              "dtype: int64"
            ]
          },
          "metadata": {},
          "execution_count": 11
        }
      ]
    },
    {
      "cell_type": "code",
      "source": [
        "# Handle NaN values\n",
        "\n",
        "# Forward fill or backward fill for 'Year' and 'Month'\n",
        "sampled_df['Year'] = sampled_df['Year'].fillna(method='ffill').fillna(method='bfill')\n",
        "sampled_df['Month'] = sampled_df['Month'].fillna(method='ffill').fillna(method='bfill')\n",
        "\n",
        "# Interpolation for death-related columns\n",
        "death_columns = [\n",
        "    'COVID-19 Deaths',\n",
        "    'Total Deaths',\n",
        "    'Pneumonia Deaths',\n",
        "    'Pneumonia and COVID-19 Deaths',\n",
        "    'Influenza Deaths',\n",
        "    'Pneumonia, Influenza, or COVID-19 Deaths'\n",
        "]\n",
        "sampled_df[death_columns] = sampled_df[death_columns].interpolate(method='linear')\n",
        "\n",
        "# Ensure no remaining NaN values by applying forward fill and backward fill again\n",
        "sampled_df[death_columns] = sampled_df[death_columns].fillna(method='ffill').fillna(method='bfill')"
      ],
      "metadata": {
        "id": "e0cNY5o4_0w8"
      },
      "execution_count": 14,
      "outputs": []
    },
    {
      "cell_type": "code",
      "source": [
        "sampled_df.isna().sum()"
      ],
      "metadata": {
        "colab": {
          "base_uri": "https://localhost:8080/"
        },
        "id": "h8leRkCa__-q",
        "outputId": "f3bdb5de-5596-411c-eab0-1374c0aafef5"
      },
      "execution_count": 15,
      "outputs": [
        {
          "output_type": "execute_result",
          "data": {
            "text/plain": [
              "Data As Of                                  0\n",
              "Start Date                                  0\n",
              "End Date                                    0\n",
              "Group                                       0\n",
              "Year                                        0\n",
              "Month                                       0\n",
              "State                                       0\n",
              "Sex                                         0\n",
              "Age Group                                   0\n",
              "COVID-19 Deaths                             0\n",
              "Total Deaths                                0\n",
              "Pneumonia Deaths                            0\n",
              "Pneumonia and COVID-19 Deaths               0\n",
              "Influenza Deaths                            0\n",
              "Pneumonia, Influenza, or COVID-19 Deaths    0\n",
              "dtype: int64"
            ]
          },
          "metadata": {},
          "execution_count": 15
        }
      ]
    },
    {
      "cell_type": "code",
      "source": [
        "# Final Feature Removal\n",
        "sampled_df = sampled_df.drop(columns=['Data As Of', 'Start Date', 'Group', ])"
      ],
      "metadata": {
        "id": "iZNaCB6pDcpn"
      },
      "execution_count": 17,
      "outputs": []
    },
    {
      "cell_type": "code",
      "source": [
        "# Save the reduced dataset to a new CSV file\n",
        "sampled_df.to_csv('reduced_dataset.csv', index=False)"
      ],
      "metadata": {
        "id": "ozLH7OD-B1UJ"
      },
      "execution_count": 19,
      "outputs": []
    }
  ]
}